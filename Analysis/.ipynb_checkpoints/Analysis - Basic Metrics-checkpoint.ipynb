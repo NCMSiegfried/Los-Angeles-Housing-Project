{
 "cells": [
  {
   "cell_type": "markdown",
   "id": "586ee212",
   "metadata": {},
   "source": [
    "# CALCULATE BASIC METRICS FOR NUMERICAL DATA: MEAN, MEDIAN, VAR, SD\n",
    "# CALCULATE NEIGHBORHOOD AND ZIP CODE VALUE COUNTS"
   ]
  },
  {
   "cell_type": "code",
   "execution_count": 1,
   "id": "419e595f",
   "metadata": {},
   "outputs": [
    {
     "name": "stderr",
     "output_type": "stream",
     "text": [
      "/Users/nikkosiegfried/opt/anaconda3/lib/python3.9/site-packages/pandas/core/computation/expressions.py:21: UserWarning: Pandas requires version '2.8.4' or newer of 'numexpr' (version '2.8.1' currently installed).\n",
      "  from pandas.core.computation.check import NUMEXPR_INSTALLED\n",
      "/Users/nikkosiegfried/opt/anaconda3/lib/python3.9/site-packages/pandas/core/arrays/masked.py:60: UserWarning: Pandas requires version '1.3.6' or newer of 'bottleneck' (version '1.3.4' currently installed).\n",
      "  from pandas.core import (\n"
     ]
    }
   ],
   "source": [
    "import pandas as pd\n",
    "import os\n",
    "import sys\n",
    "import statistics\n",
    "import numpy as np"
   ]
  },
  {
   "cell_type": "code",
   "execution_count": 2,
   "id": "fb5ebf10",
   "metadata": {},
   "outputs": [],
   "source": [
    "pd.set_option('display.max_columns', 500)"
   ]
  },
  {
   "cell_type": "code",
   "execution_count": 3,
   "id": "41f679ef",
   "metadata": {},
   "outputs": [],
   "source": [
    "notebook_dir = os.getcwd()\n",
    "os.chdir(notebook_dir)\n",
    "\n",
    "os.chdir('..')\n",
    "df = pd.read_csv(\"data/Austin_For_Sale_CLEANED.csv\")"
   ]
  },
  {
   "cell_type": "markdown",
   "id": "2092efaf",
   "metadata": {},
   "source": [
    "# FOR SALE PROPERTY BASIC METRICS:"
   ]
  },
  {
   "cell_type": "code",
   "execution_count": 4,
   "id": "2b75b0b6",
   "metadata": {},
   "outputs": [
    {
     "name": "stdout",
     "output_type": "stream",
     "text": [
      "AUSTIN FOR SALE PROPERTY AVERAGES: \n",
      "\n",
      "Beds: 3.612\n",
      "Full Baths: 2.564\n",
      "Half Baths: 1.078\n",
      "Square Feet: 2456.24\n",
      "Year Built: 1995.283\n",
      "Days on MLS: 71.532\n",
      "List Price: 1117685.071\n",
      "Assessed Value: 706911.658\n",
      "Estimated Value: 1105022.394\n",
      "Lot Square Feet: 17887.095\n",
      "Price per Sq Feet: 429.182\n",
      "Stories: 1.618\n",
      "HOA Fees: 40.743\n",
      "Parking Garage: 2.081\n"
     ]
    }
   ],
   "source": [
    "print(\"AUSTIN FOR SALE PROPERTY AVERAGES: \\n\")\n",
    "\n",
    "print(\"Beds: \"+ str(df.beds.mean().round(3)))\n",
    "print(\"Full Baths: \"+str(df.full_baths.mean().round(3)))\n",
    "print(\"Half Baths: \"+str(df.half_baths.mean().round(3)))\n",
    "print(\"Square Feet: \"+str(df.sqft.mean().round(3)))\n",
    "print(\"Year Built: \"+str(df.year_built.mean().round(3)))\n",
    "print(\"Days on MLS: \"+str(df.days_on_mls.mean().round(3)))\n",
    "print(\"List Price: \"+str(df.list_price.mean().round(3)))\n",
    "print(\"Assessed Value: \"+str(df.assessed_value.mean().round(3)))\n",
    "print(\"Estimated Value: \"+str(df.estimated_value.mean().round(3)))\n",
    "print(\"Lot Square Feet: \"+str(df.lot_sqft.mean().round(3)))\n",
    "print(\"Price per Sq Feet: \"+str(df.price_per_sqft.mean().round(3)))\n",
    "print(\"Stories: \"+str(df.stories.mean().round(3)))\n",
    "print(\"HOA Fees: \"+str(df.hoa_fee.mean().round(3)))\n",
    "print(\"Parking Garage: \"+str(df.parking_garage.mean().round(3)))"
   ]
  },
  {
   "cell_type": "code",
   "execution_count": 5,
   "id": "da99d20a",
   "metadata": {},
   "outputs": [
    {
     "name": "stdout",
     "output_type": "stream",
     "text": [
      "AUSTIN FOR SALE PROPERTY DATASET MEDIANS: \n",
      "\n",
      "Beds: 4.0\n",
      "Full Baths: 2.0\n",
      "Half Baths: 1.0\n",
      "Square Feet: 2186.5\n",
      "Year Built: 2002\n",
      "Days on MLS: 49.0\n",
      "List Price: 695000.0\n",
      "Assessed Value: 539291.0\n",
      "Estimated Value: 693000.0\n",
      "Lot Square Feet: 8372.0\n",
      "Price per Sq Feet: 339.0\n",
      "Stories: 2.0\n",
      "HOA Fees: 0.0\n",
      "Parking Garage: 2.0\n"
     ]
    }
   ],
   "source": [
    "print(\"AUSTIN FOR SALE PROPERTY DATASET MEDIANS: \\n\")\n",
    "\n",
    "print(\"Beds: \"+ str(df.beds.median().round(3)))\n",
    "print(\"Full Baths: \"+str(df.full_baths.median().round(3)))\n",
    "print(\"Half Baths: \"+str(df.half_baths.median().round(3)))\n",
    "print(\"Square Feet: \"+str(df.sqft.median().round(3)))\n",
    "print(\"Year Built: \"+str(int(df.year_built.median())))\n",
    "print(\"Days on MLS: \"+str(df.days_on_mls.median().round(3)))\n",
    "print(\"List Price: \"+str(df.list_price.median().round(3)))\n",
    "print(\"Assessed Value: \"+str(df.assessed_value.median().round(3)))\n",
    "print(\"Estimated Value: \"+str(df.estimated_value.median().round(3)))\n",
    "print(\"Lot Square Feet: \"+str(df.lot_sqft.median().round(3)))\n",
    "print(\"Price per Sq Feet: \"+str(df.price_per_sqft.median().round(3)))\n",
    "print(\"Stories: \"+str(df.stories.median().round(3)))\n",
    "print(\"HOA Fees: \"+str(df.hoa_fee.median().round(3)))\n",
    "print(\"Parking Garage: \"+str(df.parking_garage.median().round(3)))"
   ]
  },
  {
   "cell_type": "code",
   "execution_count": 6,
   "id": "a50a644a",
   "metadata": {},
   "outputs": [
    {
     "name": "stdout",
     "output_type": "stream",
     "text": [
      "AUSTIN FOR SALE PROPERTY DATASET VARIANCE: \n",
      "\n",
      "Beds: 0.946\n",
      "Full Baths: 1.033\n",
      "Half Baths: 0.101\n",
      "Square Feet: 1642089.968\n",
      "Year Built: 674\n",
      "Days on MLS: 7026.16\n",
      "List Price: 1696707314764.854\n",
      "Assessed Value: 401971523428.182\n",
      "Estimated Value: 1456165390241.187\n",
      "Lot Square Feet: 2301956729.286\n",
      "Price per Sq Feet: 93100.838\n",
      "Stories: 0.316\n",
      "HOA Fees: 5570.625\n",
      "Parking Garage: 0.412\n"
     ]
    }
   ],
   "source": [
    "print(\"AUSTIN FOR SALE PROPERTY DATASET VARIANCE: \\n\")\n",
    "\n",
    "print(\"Beds: \"+ str(np.var(df.beds).round(3)))\n",
    "print(\"Full Baths: \"+str(np.var(df.full_baths).round(3)))\n",
    "print(\"Half Baths: \"+str(np.var(df.half_baths).round(3)))\n",
    "print(\"Square Feet: \"+str(np.var(df.sqft).round(3)))\n",
    "print(\"Year Built: \"+str(int(np.var(df.year_built).round(3))))\n",
    "print(\"Days on MLS: \"+str(np.var(df.days_on_mls).round(3)))\n",
    "print(\"List Price: \"+str(np.var(df.list_price).round(3)))\n",
    "print(\"Assessed Value: \"+str(np.var(df.assessed_value).round(3)))\n",
    "print(\"Estimated Value: \"+str(np.var(df.estimated_value).round(3)))\n",
    "print(\"Lot Square Feet: \"+str(np.var(df.lot_sqft).round(3)))\n",
    "print(\"Price per Sq Feet: \"+str(np.var(df.price_per_sqft).round(3)))\n",
    "print(\"Stories: \"+str(np.var(df.stories).round(3)))\n",
    "print(\"HOA Fees: \"+str(np.var(df.hoa_fee).round(3)))\n",
    "print(\"Parking Garage: \"+str(np.var(df.parking_garage).round(3)))"
   ]
  },
  {
   "cell_type": "code",
   "execution_count": 7,
   "id": "c6f6aa11",
   "metadata": {},
   "outputs": [
    {
     "name": "stdout",
     "output_type": "stream",
     "text": [
      "AUSTIN FOR SALE PROPERTY DATASET STANDARD DEVIATION: \n",
      "Beds: 0.972\n",
      "Full Baths: 1.016\n",
      "Half Baths: 0.318\n",
      "Square Feet: 1281.441\n",
      "Year Built: 25\n",
      "Days on MLS: 83.822\n",
      "List Price: 1302577.182\n",
      "Assessed Value: 634012.242\n",
      "Estimated Value: 1206716.781\n",
      "Lot Square Feet: 47978.711\n",
      "Price per Sq Feet: 305.124\n",
      "Stories: 0.562\n",
      "HOA Fees: 74.637\n",
      "Parking Garage: 0.642\n"
     ]
    }
   ],
   "source": [
    "print(\"AUSTIN FOR SALE PROPERTY DATASET STANDARD DEVIATION: \")\n",
    "\n",
    "print(\"Beds: \"+ str(np.std(df.beds).round(3)))\n",
    "print(\"Full Baths: \"+str(np.std(df.full_baths).round(3)))\n",
    "print(\"Half Baths: \"+str(np.std(df.half_baths).round(3)))\n",
    "print(\"Square Feet: \"+str(np.std(df.sqft).round(3)))\n",
    "print(\"Year Built: \"+str(int(np.std(df.year_built).round(3))))\n",
    "print(\"Days on MLS: \"+str(np.std(df.days_on_mls).round(3)))\n",
    "print(\"List Price: \"+str(np.std(df.list_price).round(3)))\n",
    "print(\"Assessed Value: \"+str(np.std(df.assessed_value).round(3)))\n",
    "print(\"Estimated Value: \"+str(np.std(df.estimated_value).round(3)))\n",
    "print(\"Lot Square Feet: \"+str(np.std(df.lot_sqft).round(3)))\n",
    "print(\"Price per Sq Feet: \"+str(np.std(df.price_per_sqft).round(3)))\n",
    "print(\"Stories: \"+str(np.std(df.stories).round(3)))\n",
    "print(\"HOA Fees: \"+str(np.std(df.hoa_fee).round(3)))\n",
    "print(\"Parking Garage: \"+str(np.std(df.parking_garage).round(3)))"
   ]
  },
  {
   "cell_type": "code",
   "execution_count": 9,
   "id": "423acc14",
   "metadata": {},
   "outputs": [
    {
     "data": {
      "text/plain": [
       "zip_code\n",
       "78738    277\n",
       "78704    258\n",
       "78744    247\n",
       "78745    223\n",
       "78747    211\n",
       "78748    208\n",
       "78702    199\n",
       "78746    160\n",
       "78737    159\n",
       "78734    148\n",
       "78723    147\n",
       "78757    129\n",
       "78703    122\n",
       "78731    111\n",
       "78749    108\n",
       "78732    105\n",
       "78759     92\n",
       "78721     89\n",
       "78750     88\n",
       "78758     83\n",
       "78739     83\n",
       "78753     82\n",
       "78727     81\n",
       "78751     76\n",
       "78735     71\n",
       "78717     71\n",
       "78724     71\n",
       "78733     66\n",
       "78653     65\n",
       "78729     65\n",
       "78754     61\n",
       "78730     57\n",
       "78736     54\n",
       "78741     53\n",
       "78752     49\n",
       "78728     41\n",
       "78725     37\n",
       "78756     37\n",
       "78617     33\n",
       "78722     32\n",
       "78660     25\n",
       "78705     25\n",
       "78726     24\n",
       "78652      6\n",
       "78610      3\n",
       "78719      2\n",
       "78701      2\n",
       "78654      1\n",
       "Name: count, dtype: int64"
      ]
     },
     "execution_count": 9,
     "metadata": {},
     "output_type": "execute_result"
    }
   ],
   "source": [
    "df[\"zip_code\"].value_counts()"
   ]
  },
  {
   "cell_type": "code",
   "execution_count": 10,
   "id": "bb3f0004",
   "metadata": {},
   "outputs": [],
   "source": [
    "del df"
   ]
  },
  {
   "cell_type": "code",
   "execution_count": 11,
   "id": "2a3c48db",
   "metadata": {},
   "outputs": [],
   "source": [
    "df = pd.read_csv(\"data/Austin_Sold_CLEANED.csv\")"
   ]
  },
  {
   "cell_type": "markdown",
   "id": "d49011b3",
   "metadata": {},
   "source": [
    "# SOLD PROPERTY BASIC METRICS:"
   ]
  },
  {
   "cell_type": "code",
   "execution_count": 12,
   "id": "e753e2d2",
   "metadata": {},
   "outputs": [
    {
     "name": "stdout",
     "output_type": "stream",
     "text": [
      "AUSTIN SOLD PROPERTY AVERAGES: \n",
      "\n",
      "Beds: 3.54\n",
      "Full Baths: 2.366\n",
      "Half Baths: 1.092\n",
      "Square Feet: 2304.666\n",
      "Year Built: 1992.723\n",
      "Days on MLS: 80\n",
      "List Price: 800893.187\n",
      "Assessed Value: 685365.174\n",
      "Estimated Value: 804819.794\n",
      "Lot Square Feet: 16579.312\n",
      "Price per Sq Feet: 347.509\n",
      "Stories: 1.471\n",
      "HOA Fees: 31.316\n",
      "Parking Garage: 2.107\n"
     ]
    }
   ],
   "source": [
    "print(\"AUSTIN SOLD PROPERTY AVERAGES: \\n\")\n",
    "\n",
    "print(\"Beds: \"+ str(df.beds.mean().round(3)))\n",
    "print(\"Full Baths: \"+str(df.full_baths.mean().round(3)))\n",
    "print(\"Half Baths: \"+str(df.half_baths.mean().round(3)))\n",
    "print(\"Square Feet: \"+str(df.sqft.mean().round(3)))\n",
    "print(\"Year Built: \"+str(df.year_built.mean().round(3)))\n",
    "print(\"Days on MLS: \"+str(round(df.days_on_mls.mean())))\n",
    "print(\"List Price: \"+str(df.list_price.mean().round(3)))\n",
    "print(\"Assessed Value: \"+str(df.assessed_value.mean().round(3)))\n",
    "print(\"Estimated Value: \"+str(df.estimated_value.mean().round(3)))\n",
    "print(\"Lot Square Feet: \"+str(df.lot_sqft.mean().round(3)))\n",
    "print(\"Price per Sq Feet: \"+str((df.list_price.mean()/df.sqft.mean()).round(3)))\n",
    "print(\"Stories: \"+str(df.stories.mean().round(3)))\n",
    "print(\"HOA Fees: \"+str(df.hoa_fee.mean().round(3)))\n",
    "print(\"Parking Garage: \"+str(df.parking_garage.mean().round(3)))"
   ]
  },
  {
   "cell_type": "code",
   "execution_count": 13,
   "id": "7b83f47a",
   "metadata": {},
   "outputs": [
    {
     "name": "stdout",
     "output_type": "stream",
     "text": [
      "AUSTIN SOLD PROPERTY DATASET MEDIANS: \n",
      "\n",
      "Beds: 3.0\n",
      "Full Baths: 2.0\n",
      "Half Baths: 1.0\n",
      "Square Feet: 1952.0\n",
      "Year Built: 1997\n",
      "Days on MLS: 57.0\n",
      "List Price: 504990.0\n",
      "Assessed Value: 490767.0\n",
      "Estimated Value: 543804.5\n",
      "Lot Square Feet: 8329.0\n",
      "Price per Sq Feet: 258.7038934426229\n",
      "Stories: 1.0\n",
      "HOA Fees: 10.0\n",
      "Parking Garage: 2.0\n"
     ]
    }
   ],
   "source": [
    "print(\"AUSTIN SOLD PROPERTY DATASET MEDIANS: \\n\")\n",
    "\n",
    "print(\"Beds: \"+ str(df.beds.median().round(3)))\n",
    "print(\"Full Baths: \"+str(df.full_baths.median().round(3)))\n",
    "print(\"Half Baths: \"+str(df.half_baths.median().round(3)))\n",
    "print(\"Square Feet: \"+str(df.sqft.median().round(3)))\n",
    "print(\"Year Built: \"+str(int(df.year_built.median())))\n",
    "print(\"Days on MLS: \"+str(df.days_on_mls.median().round(3)))\n",
    "print(\"List Price: \"+str(df.list_price.median().round(3)))\n",
    "print(\"Assessed Value: \"+str(df.assessed_value.median().round(3)))\n",
    "print(\"Estimated Value: \"+str(df.estimated_value.median().round(3)))\n",
    "print(\"Lot Square Feet: \"+str(df.lot_sqft.median().round(3)))\n",
    "print(\"Price per Sq Feet: \"+str(df.list_price.median()/df.sqft.median().round(3)))\n",
    "print(\"Stories: \"+str(df.stories.median().round(3)))\n",
    "print(\"HOA Fees: \"+str(df.hoa_fee.median().round(3)))\n",
    "print(\"Parking Garage: \"+str(df.parking_garage.median().round(3)))"
   ]
  },
  {
   "cell_type": "code",
   "execution_count": 14,
   "id": "e21a400b",
   "metadata": {},
   "outputs": [
    {
     "name": "stdout",
     "output_type": "stream",
     "text": [
      "AUSTIN FOR SALE PROPERTY DATASET VARIANCE: \n",
      "\n",
      "Beds: 0.816\n",
      "Full Baths: 1.029\n",
      "Half Baths: 0.114\n",
      "Square Feet: 2350458.568\n",
      "Year Built: 422\n",
      "Days on MLS: 4965.708\n",
      "List Price: 1205528475118.12\n",
      "Assessed Value: 692191186885.127\n",
      "Estimated Value: 650914017720.271\n",
      "Lot Square Feet: 2710621990.112\n",
      "Price per Sq Feet: 42819.208\n",
      "Stories: 0.299\n",
      "HOA Fees: 3781.575\n",
      "Parking Garage: 0.484\n"
     ]
    }
   ],
   "source": [
    "print(\"AUSTIN FOR SALE PROPERTY DATASET VARIANCE: \\n\")\n",
    "\n",
    "print(\"Beds: \"+ str(np.var(df.beds).round(3)))\n",
    "print(\"Full Baths: \"+str(np.var(df.full_baths).round(3)))\n",
    "print(\"Half Baths: \"+str(np.var(df.half_baths).round(3)))\n",
    "print(\"Square Feet: \"+str(np.var(df.sqft).round(3)))\n",
    "print(\"Year Built: \"+str(int(np.var(df.year_built).round(3))))\n",
    "print(\"Days on MLS: \"+str(np.var(df.days_on_mls).round(3)))\n",
    "print(\"List Price: \"+str(np.var(df.list_price).round(3)))\n",
    "print(\"Assessed Value: \"+str(np.var(df.assessed_value).round(3)))\n",
    "print(\"Estimated Value: \"+str(np.var(df.estimated_value).round(3)))\n",
    "print(\"Lot Square Feet: \"+str(np.var(df.lot_sqft).round(3)))\n",
    "print(\"Price per Sq Feet: \"+str(np.var(df.list_price/df.sqft).round(3)))\n",
    "print(\"Stories: \"+str(np.var(df.stories).round(3)))\n",
    "print(\"HOA Fees: \"+str(np.var(df.hoa_fee).round(3)))\n",
    "print(\"Parking Garage: \"+str(np.var(df.parking_garage).round(3)))"
   ]
  },
  {
   "cell_type": "code",
   "execution_count": 15,
   "id": "f8126bba",
   "metadata": {},
   "outputs": [
    {
     "name": "stdout",
     "output_type": "stream",
     "text": [
      "AUSTIN FOR SALE PROPERTY DATASET STANDARD DEVIATION: \n",
      "Beds: 0.904\n",
      "Full Baths: 1.014\n",
      "Half Baths: 0.337\n",
      "Square Feet: 1533.121\n",
      "Year Built: 20\n",
      "Days on MLS: 70.468\n",
      "List Price: 1097965.607\n",
      "Assessed Value: 831980.28\n",
      "Estimated Value: 806792.425\n",
      "Lot Square Feet: 52063.634\n",
      "Price per Sq Feet: 206.928\n",
      "Stories: 0.547\n",
      "HOA Fees: 61.495\n",
      "Parking Garage: 0.696\n"
     ]
    }
   ],
   "source": [
    "print(\"AUSTIN FOR SALE PROPERTY DATASET STANDARD DEVIATION: \")\n",
    "\n",
    "print(\"Beds: \"+ str(np.std(df.beds).round(3)))\n",
    "print(\"Full Baths: \"+str(np.std(df.full_baths).round(3)))\n",
    "print(\"Half Baths: \"+str(np.std(df.half_baths).round(3)))\n",
    "print(\"Square Feet: \"+str(np.std(df.sqft).round(3)))\n",
    "print(\"Year Built: \"+str(int(np.std(df.year_built).round(3))))\n",
    "print(\"Days on MLS: \"+str(np.std(df.days_on_mls).round(3)))\n",
    "print(\"List Price: \"+str(np.std(df.list_price).round(3)))\n",
    "print(\"Assessed Value: \"+str(np.std(df.assessed_value).round(3)))\n",
    "print(\"Estimated Value: \"+str(np.std(df.estimated_value).round(3)))\n",
    "print(\"Lot Square Feet: \"+str(np.std(df.lot_sqft).round(3)))\n",
    "print(\"Price per Sq Feet: \"+str(np.std(df.list_price/df.sqft).round(3)))\n",
    "print(\"Stories: \"+str(np.std(df.stories).round(3)))\n",
    "print(\"HOA Fees: \"+str(np.std(df.hoa_fee).round(3)))\n",
    "print(\"Parking Garage: \"+str(np.std(df.parking_garage).round(3)))"
   ]
  },
  {
   "cell_type": "code",
   "execution_count": 17,
   "id": "792bb603",
   "metadata": {},
   "outputs": [
    {
     "data": {
      "text/plain": [
       "zip_code\n",
       "78747    47\n",
       "78748    44\n",
       "78738    42\n",
       "78745    37\n",
       "78737    30\n",
       "78723    29\n",
       "78753    26\n",
       "78749    24\n",
       "78717    23\n",
       "78759    23\n",
       "78750    23\n",
       "78727    22\n",
       "78725    19\n",
       "78754    18\n",
       "78758    18\n",
       "78744    18\n",
       "78728    18\n",
       "78617    18\n",
       "78721    17\n",
       "78729    16\n",
       "78746    16\n",
       "78734    15\n",
       "78757    15\n",
       "78726    13\n",
       "78660    10\n",
       "78704    10\n",
       "78732    10\n",
       "78731     8\n",
       "78724     8\n",
       "78739     7\n",
       "78736     7\n",
       "78730     6\n",
       "78735     6\n",
       "78733     6\n",
       "78751     5\n",
       "78752     5\n",
       "78722     4\n",
       "78703     4\n",
       "78756     3\n",
       "78741     3\n",
       "78702     3\n",
       "78653     1\n",
       "78652     1\n",
       "78705     1\n",
       "78719     1\n",
       "78613     1\n",
       "78701     1\n",
       "78258     1\n",
       "Name: count, dtype: int64"
      ]
     },
     "execution_count": 17,
     "metadata": {},
     "output_type": "execute_result"
    }
   ],
   "source": [
    "df[\"zip_code\"].value_counts()"
   ]
  }
 ],
 "metadata": {
  "kernelspec": {
   "display_name": "Python 3 (ipykernel)",
   "language": "python",
   "name": "python3"
  },
  "language_info": {
   "codemirror_mode": {
    "name": "ipython",
    "version": 3
   },
   "file_extension": ".py",
   "mimetype": "text/x-python",
   "name": "python",
   "nbconvert_exporter": "python",
   "pygments_lexer": "ipython3",
   "version": "3.9.12"
  }
 },
 "nbformat": 4,
 "nbformat_minor": 5
}
