{
 "cells": [
  {
   "cell_type": "code",
   "execution_count": 1,
   "id": "72134a7c",
   "metadata": {},
   "outputs": [
    {
     "name": "stderr",
     "output_type": "stream",
     "text": [
      "/Users/nikkosiegfried/opt/anaconda3/lib/python3.9/site-packages/pandas/core/computation/expressions.py:21: UserWarning: Pandas requires version '2.8.4' or newer of 'numexpr' (version '2.8.1' currently installed).\n",
      "  from pandas.core.computation.check import NUMEXPR_INSTALLED\n",
      "/Users/nikkosiegfried/opt/anaconda3/lib/python3.9/site-packages/pandas/core/arrays/masked.py:60: UserWarning: Pandas requires version '1.3.6' or newer of 'bottleneck' (version '1.3.4' currently installed).\n",
      "  from pandas.core import (\n"
     ]
    }
   ],
   "source": [
    "from homeharvest import scrape_property\n",
    "import numpy as np\n",
    "from sklearn.datasets import make_regression\n",
    "from sklearn.model_selection import train_test_split, GridSearchCV\n",
    "from sklearn.preprocessing import StandardScaler,LabelEncoder\n",
    "from sklearn.pipeline import Pipeline\n",
    "from sklearn.neighbors import KNeighborsRegressor\n",
    "from sklearn.metrics import mean_squared_error\n",
    "import os\n",
    "import pandas as pd\n",
    "import matplotlib.pyplot as plt\n",
    "import seaborn as sns\n",
    "from sklearn.preprocessing import (\n",
    "    MaxAbsScaler,\n",
    "    MinMaxScaler,\n",
    "    Normalizer,\n",
    "    PowerTransformer,\n",
    "    QuantileTransformer,\n",
    "    RobustScaler,\n",
    "    StandardScaler,\n",
    "    minmax_scale,\n",
    ")\n",
    "from numpy import ravel\n",
    "import statsmodels.api as sm\n",
    "from sklearn.feature_selection import VarianceThreshold\n",
    "from sklearn.neighbors import KNeighborsClassifier "
   ]
  },
  {
   "cell_type": "code",
   "execution_count": 2,
   "id": "0fa9c6c6",
   "metadata": {},
   "outputs": [],
   "source": [
    "notebook_dir = os.getcwd()\n"
   ]
  },
  {
   "cell_type": "code",
   "execution_count": 3,
   "id": "f2242814",
   "metadata": {},
   "outputs": [],
   "source": [
    "pd.set_option('display.max_columns', 500)\n",
    "\n",
    "os.chdir(notebook_dir)\n",
    "os.chdir('..')\n",
    "df1 = pd.read_csv(\"data/Austin_For_Sale_CLEANED.csv\")\n",
    "df2 = pd.read_csv(\"data/Austin_Sold_CLEANED.csv\")"
   ]
  },
  {
   "cell_type": "code",
   "execution_count": null,
   "id": "c2814a97",
   "metadata": {},
   "outputs": [],
   "source": [
    "encoder = LabelEncoder()\n",
    "season_quant = encoder.fit_transform(ravel(df2['season']))\n",
    "df2['season_listed_num'] = season_quant"
   ]
  },
  {
   "cell_type": "code",
   "execution_count": null,
   "id": "de1862f0",
   "metadata": {},
   "outputs": [],
   "source": [
    "X = df2[['beds','full_baths', 'half_baths' ,'sqft','lot_sqft','hoa_fee','parking_garage','list_price','pricepersqft','bedcostratio', 'bathcostratio', 'bathbedcastratio', 'amenitiescastratio','season_listed_num'\n",
    "       ]]\n",
    "y = df2['days_on_market_quartile']\n",
    "encoder = LabelEncoder()\n",
    "y = encoder.fit_transform(ravel(y))\n",
    "# Split the data into training and testing sets\n",
    "X_train, X_test, y_train, y_test = train_test_split(X, y)\n"
   ]
  },
  {
   "cell_type": "code",
   "execution_count": null,
   "id": "e0209738",
   "metadata": {},
   "outputs": [],
   "source": [
    "# Create a pipeline with a standard scaler and a KNN regressor\n",
    "pipeline = Pipeline([\n",
    "    ('scaler', StandardScaler()),\n",
    "    ('knn', KNeighborsRegressor())\n",
    "])\n",
    "\n",
    "param_grid = {\n",
    "    'knn__n_neighbors': [1,5,10,15,20,25,30,35,40,45,50,100],\n",
    "    'knn__weights': ['uniform', 'distance'],\n",
    "    'knn__metric': ['euclidean', 'manhattan']\n",
    "}\n",
    "# Create GridSearchCV with the pipeline and parameter grid\n",
    "grid_search = GridSearchCV(pipeline, param_grid, cv=3, scoring='neg_mean_squared_error')\n",
    "\n",
    "# Fit GridSearchCV on the training data\n",
    "grid_search.fit(X_train, y_train)"
   ]
  },
  {
   "cell_type": "code",
   "execution_count": null,
   "id": "d380094b",
   "metadata": {},
   "outputs": [],
   "source": [
    "# Get the best model from GridSearchCV\n",
    "best_model = grid_search.best_estimator_\n",
    "\n",
    "# Predict on the test set\n",
    "y_pred = best_model.predict(X_test)\n",
    "\n",
    "# Calculate the mean squared error\n",
    "mse = mean_squared_error(y_test, y_pred)\n",
    "\n",
    "print(f\"Best parameters: {grid_search.best_params_}\")\n",
    "print(f\"Mean Squared Error: {mse}\")"
   ]
  },
  {
   "cell_type": "code",
   "execution_count": null,
   "id": "c49e42ac",
   "metadata": {},
   "outputs": [],
   "source": [
    "features = ['list_price','pricepersqft','beds','full_baths', 'half_baths','bedcostratio', 'bathcostratio', 'bathbedcastratio','amenitiescastratio','hashoa',\"season_listed_num\",'days_on_market_quartile']\n",
    "sns.pairplot(df2[features], hue=\"days_on_market_quartile\")"
   ]
  },
  {
   "cell_type": "code",
   "execution_count": null,
   "id": "7f2de678",
   "metadata": {},
   "outputs": [],
   "source": [
    "# Extract the results from GridSearchCV\n",
    "results = grid_search.cv_results_\n",
    "\n",
    "# Convert results to a DataFrame for easier plotting\n",
    "results_df = pd.DataFrame(results)\n",
    "\n",
    "# Pivot the DataFrame to have a heatmap structure\n",
    "pivot_table = results_df.pivot_table(\n",
    "    index='param_knn__n_neighbors',\n",
    "    columns='param_knn__weights',\n",
    "    values='mean_test_score'\n",
    ")\n",
    "\n",
    "# Plot the heatmap\n",
    "plt.figure(figsize=(10, 6))\n",
    "sns.heatmap(pivot_table, annot=True, cmap='viridis')\n",
    "plt.title('Grid Search Mean Test Scores')\n",
    "plt.xlabel('Weights')\n",
    "plt.ylabel('Number of Neighbors')\n",
    "plt.show()"
   ]
  },
  {
   "cell_type": "code",
   "execution_count": null,
   "id": "5461d322",
   "metadata": {},
   "outputs": [],
   "source": [
    "# Plot the predicted vs actual values\n",
    "plt.figure(figsize=(10, 6))\n",
    "plt.scatter(y_test, y_pred, edgecolors=(0, 0, 0))\n",
    "plt.plot([y_test.min(), y_test.max()], [y_test.min(), y_test.max()], 'k--', lw=4)\n",
    "plt.xlabel('Actual')\n",
    "plt.ylabel('Predicted')\n",
    "plt.title('Actual vs Predicted Values')\n",
    "plt.show()"
   ]
  },
  {
   "cell_type": "code",
   "execution_count": null,
   "id": "a88bb15e",
   "metadata": {},
   "outputs": [],
   "source": [
    "X_train, X_test, y_train, y_test = train_test_split(X, y)\n"
   ]
  },
  {
   "cell_type": "code",
   "execution_count": null,
   "id": "0bd46694",
   "metadata": {},
   "outputs": [],
   "source": [
    "\n",
    "pipe = Pipeline([\n",
    "('scaler', StandardScaler()),\n",
    "('selector', VarianceThreshold()),\n",
    "('classifier', KNeighborsClassifier())\n",
    "])\n",
    "\n",
    "parameters = {'scaler': [StandardScaler(), MinMaxScaler(),\n",
    " Normalizer(), MaxAbsScaler(),PowerTransformer(),QuantileTransformer(),RobustScaler()],\n",
    " 'selector__threshold': [0, 0.001, 0.01],\n",
    " 'classifier__n_neighbors': [1, 3, 5, 7, 10,30,50],\n",
    " 'classifier__p': [1, 2],\n",
    " 'classifier__leaf_size': [1, 5, 10, 15]\n",
    "}"
   ]
  },
  {
   "cell_type": "code",
   "execution_count": null,
   "id": "88172dc3",
   "metadata": {},
   "outputs": [],
   "source": [
    "grid = GridSearchCV(pipe, parameters, cv=2).fit(X_train, y_train)\n",
    "\n",
    "print('Training set score: ' + str(grid.score(X_train, y_train)))\n",
    "print('Test set score: ' + str(grid.score(X_test, y_test)))"
   ]
  },
  {
   "cell_type": "code",
   "execution_count": null,
   "id": "0fc061f6",
   "metadata": {},
   "outputs": [],
   "source": [
    "# Access the best set of parameters\n",
    "best_params = grid.best_params_\n",
    "print(best_params)\n",
    "# Stores the optimum model in best_pipe\n",
    "best_pipe = grid.best_estimator_\n",
    "print(best_pipe)"
   ]
  },
  {
   "cell_type": "code",
   "execution_count": null,
   "id": "b7e7aecd",
   "metadata": {},
   "outputs": [],
   "source": [
    "result_df = pd.DataFrame.from_dict(grid.cv_results_, orient='columns')\n",
    "print(result_df.columns)"
   ]
  },
  {
   "cell_type": "code",
   "execution_count": null,
   "id": "6dc55236",
   "metadata": {},
   "outputs": [],
   "source": [
    "sns.relplot(data=result_df,\n",
    " kind='line',\n",
    " x='param_classifier__n_neighbors',\n",
    " y='mean_test_score',\n",
    " hue='param_scaler',\n",
    " col='param_classifier__p')\n",
    "plt.show()"
   ]
  },
  {
   "cell_type": "code",
   "execution_count": null,
   "id": "6c1f4305",
   "metadata": {},
   "outputs": [],
   "source": [
    "best_model = grid.best_estimator_\n",
    "\n",
    "# Predict on the test set\n",
    "y_pred = best_model.predict(X_test)"
   ]
  },
  {
   "cell_type": "code",
   "execution_count": null,
   "id": "81a6c977",
   "metadata": {},
   "outputs": [],
   "source": [
    "# Plot the predicted vs actual values\n",
    "plt.figure(figsize=(10, 6))\n",
    "plt.scatter(y_test, y_pred, edgecolors=(0, 0, 0))\n",
    "plt.plot([y_test.min(), y_test.max()], [y_test.min(), y_test.max()], 'k--', lw=4)\n",
    "plt.xlabel('Actual')\n",
    "plt.ylabel('Predicted')\n",
    "plt.title('Actual vs Predicted Values')\n",
    "plt.show()"
   ]
  },
  {
   "cell_type": "code",
   "execution_count": null,
   "id": "d35b92bb",
   "metadata": {},
   "outputs": [],
   "source": [
    "matches = y_pred == y_test\n",
    "percentage_same = np.sum(matches) / len(y_pred) * 100\n",
    "\n",
    "print(f\"The arrays are {percentage_same:.2f}% the same.\")"
   ]
  },
  {
   "cell_type": "code",
   "execution_count": null,
   "id": "cb21e751",
   "metadata": {},
   "outputs": [],
   "source": [
    "features = ['list_price_quartile','pricepersqft','beds','full_baths', 'half_baths','bedcostratio', 'bathcostratio', 'bathbedcastratio','amenitiescastratio','hashoa',\"season_listed_num\",'days_on_market_quartile']\n",
    "sns.pairplot(df2[features], hue=\"list_price_quartile\")\n"
   ]
  },
  {
   "cell_type": "code",
   "execution_count": null,
   "id": "fc3e0c74",
   "metadata": {},
   "outputs": [],
   "source": []
  }
 ],
 "metadata": {
  "kernelspec": {
   "display_name": "Python 3 (ipykernel)",
   "language": "python",
   "name": "python3"
  },
  "language_info": {
   "codemirror_mode": {
    "name": "ipython",
    "version": 3
   },
   "file_extension": ".py",
   "mimetype": "text/x-python",
   "name": "python",
   "nbconvert_exporter": "python",
   "pygments_lexer": "ipython3",
   "version": "3.9.12"
  }
 },
 "nbformat": 4,
 "nbformat_minor": 5
}
