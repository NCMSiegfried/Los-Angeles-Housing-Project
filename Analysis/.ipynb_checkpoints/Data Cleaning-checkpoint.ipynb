{
 "cells": [
  {
   "cell_type": "markdown",
   "id": "9ec21879",
   "metadata": {},
   "source": [
    "# CLEAN DATA: FILTER TO SINGLE FAMILY HOUSING TYPES, REMOVE REPEAT PROPERTY POSTINGS, REMOVE LISTING WITH FALSE DATA"
   ]
  },
  {
   "cell_type": "code",
   "execution_count": 1,
   "id": "536ee64e",
   "metadata": {},
   "outputs": [
    {
     "name": "stderr",
     "output_type": "stream",
     "text": [
      "/Users/nikkosiegfried/opt/anaconda3/lib/python3.9/site-packages/pandas/core/computation/expressions.py:21: UserWarning: Pandas requires version '2.8.4' or newer of 'numexpr' (version '2.8.1' currently installed).\n",
      "  from pandas.core.computation.check import NUMEXPR_INSTALLED\n",
      "/Users/nikkosiegfried/opt/anaconda3/lib/python3.9/site-packages/pandas/core/arrays/masked.py:60: UserWarning: Pandas requires version '1.3.6' or newer of 'bottleneck' (version '1.3.4' currently installed).\n",
      "  from pandas.core import (\n",
      "/Users/nikkosiegfried/opt/anaconda3/lib/python3.9/site-packages/geopandas/_compat.py:123: UserWarning: The Shapely GEOS version (3.11.1-CAPI-1.17.1) is incompatible with the GEOS version PyGEOS was compiled with (3.10.4-CAPI-1.16.2). Conversions between both will be slow.\n",
      "  warnings.warn(\n",
      "/var/folders/3c/w0zr95wd3pn8yyx48x2d9r1m0000gn/T/ipykernel_35653/778880716.py:6: UserWarning: Shapely 2.0 is installed, but because PyGEOS is also installed, GeoPandas will still use PyGEOS by default for now. To force to use and test Shapely 2.0, you have to set the environment variable USE_PYGEOS=0. You can do this before starting the Python process, or in your code before importing geopandas:\n",
      "\n",
      "import os\n",
      "os.environ['USE_PYGEOS'] = '0'\n",
      "import geopandas\n",
      "\n",
      "In a future release, GeoPandas will switch to using Shapely by default. If you are using PyGEOS directly (calling PyGEOS functions on geometries from GeoPandas), this will then stop working and you are encouraged to migrate from PyGEOS to Shapely 2.0 (https://shapely.readthedocs.io/en/latest/migration_pygeos.html).\n",
      "  import geopandas as gpd\n"
     ]
    }
   ],
   "source": [
    "import pandas as pd\n",
    "import os\n",
    "import sys\n",
    "import statistics\n",
    "import numpy as np\n",
    "import geopandas as gpd\n",
    "from datetime import datetime\n",
    "from sklearn.preprocessing import OneHotEncoder"
   ]
  },
  {
   "cell_type": "code",
   "execution_count": 2,
   "id": "8094fad5",
   "metadata": {},
   "outputs": [],
   "source": [
    "pd.set_option('display.max_columns', 500)"
   ]
  },
  {
   "cell_type": "code",
   "execution_count": 3,
   "id": "aba198d3",
   "metadata": {},
   "outputs": [],
   "source": [
    "notebook_dir = os.getcwd()\n",
    "os.chdir(notebook_dir)\n",
    "os.chdir('..')\n",
    "df1 = pd.read_csv(\"data/Austin_For_Sale.csv\")\n",
    "df2 = pd.read_csv(\"data/Austin_Sold.csv\")"
   ]
  },
  {
   "cell_type": "markdown",
   "id": "98065a1d",
   "metadata": {},
   "source": [
    "# CLEAN DATA: FILTER TO SINGLE FAMILY HOUSING TYPES"
   ]
  },
  {
   "cell_type": "code",
   "execution_count": 4,
   "id": "bee493f7",
   "metadata": {},
   "outputs": [],
   "source": [
    "df1 = df1[df1['style'] == 'SINGLE_FAMILY']\n",
    "df2 = df2[df2['style'] == 'SINGLE_FAMILY']"
   ]
  },
  {
   "cell_type": "markdown",
   "id": "e799d932",
   "metadata": {},
   "source": [
    "# CLEAN DATA: REMOVE REPEAT PROPERTY POSTINGS"
   ]
  },
  {
   "cell_type": "code",
   "execution_count": 5,
   "id": "53cad3ad",
   "metadata": {},
   "outputs": [],
   "source": [
    "df1 = df1.drop_duplicates(subset=['full_street_line', 'unit'], keep='first')\n",
    "df2 = df2.drop_duplicates(subset=['full_street_line', 'unit'], keep='first')"
   ]
  },
  {
   "cell_type": "markdown",
   "id": "91acb4b0",
   "metadata": {},
   "source": [
    "# CLEAN DATA: REMOVE LISTINGS WITH UNREALISTIC DATA"
   ]
  },
  {
   "cell_type": "code",
   "execution_count": 6,
   "id": "bb97af92",
   "metadata": {},
   "outputs": [],
   "source": [
    "df1 = df1[df1['sqft'] != 0]\n",
    "df2 = df2[df2['sqft'] != 0]"
   ]
  },
  {
   "cell_type": "markdown",
   "id": "e046236b",
   "metadata": {},
   "source": [
    "# CLEAN DATA: DROP COLUMNS WITH HIGH NULL VALUES"
   ]
  },
  {
   "cell_type": "code",
   "execution_count": 7,
   "id": "9eb2b1f8",
   "metadata": {},
   "outputs": [
    {
     "data": {
      "text/plain": [
       "property_url          0.00\n",
       "mls                   0.00\n",
       "mls_id                0.00\n",
       "status                0.00\n",
       "text                  0.07\n",
       "style                 0.00\n",
       "full_street_line      0.07\n",
       "street                0.02\n",
       "unit                 91.48\n",
       "city                  0.00\n",
       "state                 0.00\n",
       "zip_code              0.00\n",
       "beds                  0.00\n",
       "full_baths            0.23\n",
       "half_baths           53.26\n",
       "sqft                  0.07\n",
       "year_built            3.31\n",
       "days_on_mls           0.00\n",
       "list_price            0.00\n",
       "list_date             0.00\n",
       "sold_price          100.00\n",
       "last_sold_date       98.51\n",
       "assessed_value       11.76\n",
       "estimated_value      11.58\n",
       "lot_sqft              5.48\n",
       "price_per_sqft        0.07\n",
       "latitude              0.41\n",
       "longitude             0.41\n",
       "neighborhoods        11.11\n",
       "county                0.00\n",
       "fips_code             0.43\n",
       "stories               1.53\n",
       "hoa_fee               8.90\n",
       "parking_garage       16.63\n",
       "agent                 0.54\n",
       "agent_email          12.19\n",
       "agent_phones          8.47\n",
       "broker                4.80\n",
       "broker_phone          7.46\n",
       "broker_website        5.66\n",
       "nearby_schools        0.43\n",
       "primary_photo         0.09\n",
       "alt_photos            0.09\n",
       "dtype: float64"
      ]
     },
     "execution_count": 7,
     "metadata": {},
     "output_type": "execute_result"
    }
   ],
   "source": [
    "round((df1.isnull().sum()/df1.shape[0])*100,2)"
   ]
  },
  {
   "cell_type": "code",
   "execution_count": 8,
   "id": "4ac8b936",
   "metadata": {},
   "outputs": [],
   "source": [
    "df1 = df1.drop(columns=['unit','sold_price','last_sold_date']) \n"
   ]
  },
  {
   "cell_type": "code",
   "execution_count": 9,
   "id": "0940d12b",
   "metadata": {},
   "outputs": [
    {
     "data": {
      "text/plain": [
       "property_url          0.00\n",
       "mls                  88.55\n",
       "mls_id               88.55\n",
       "status                0.00\n",
       "text                 88.80\n",
       "style                 0.00\n",
       "full_street_line      0.00\n",
       "street                0.02\n",
       "unit                 99.12\n",
       "city                  0.22\n",
       "state                 0.00\n",
       "zip_code              0.00\n",
       "beds                 38.54\n",
       "full_baths            6.94\n",
       "half_baths           93.34\n",
       "sqft                  1.13\n",
       "year_built            1.05\n",
       "days_on_mls          92.77\n",
       "list_price           88.55\n",
       "list_date            88.55\n",
       "sold_price          100.00\n",
       "last_sold_date        0.00\n",
       "assessed_value        0.28\n",
       "estimated_value       2.59\n",
       "lot_sqft              3.84\n",
       "price_per_sqft      100.00\n",
       "latitude              0.03\n",
       "longitude             0.03\n",
       "neighborhoods        23.64\n",
       "county                0.00\n",
       "fips_code             0.03\n",
       "stories               7.21\n",
       "hoa_fee              89.75\n",
       "parking_garage       89.44\n",
       "agent                90.35\n",
       "agent_email          91.03\n",
       "agent_phones         90.80\n",
       "broker              100.00\n",
       "broker_phone        100.00\n",
       "broker_website      100.00\n",
       "nearby_schools        0.03\n",
       "primary_photo        84.52\n",
       "alt_photos           84.52\n",
       "dtype: float64"
      ]
     },
     "execution_count": 9,
     "metadata": {},
     "output_type": "execute_result"
    }
   ],
   "source": [
    "round((df2.isnull().sum()/df2.shape[0])*100,2)"
   ]
  },
  {
   "cell_type": "code",
   "execution_count": 10,
   "id": "908c453a",
   "metadata": {},
   "outputs": [],
   "source": [
    "df2 = df2.dropna(subset=['sqft','lot_sqft','year_built','beds','list_price','list_date','latitude','longitude'])\n"
   ]
  },
  {
   "cell_type": "code",
   "execution_count": 11,
   "id": "2210ce86",
   "metadata": {},
   "outputs": [
    {
     "data": {
      "text/plain": [
       "property_url          0.00\n",
       "mls                   0.00\n",
       "mls_id                0.00\n",
       "status                0.00\n",
       "text                  2.20\n",
       "style                 0.00\n",
       "full_street_line      0.00\n",
       "street                0.15\n",
       "unit                 96.93\n",
       "city                  0.00\n",
       "state                 0.00\n",
       "zip_code              0.00\n",
       "beds                  0.00\n",
       "full_baths            0.00\n",
       "half_baths           61.64\n",
       "sqft                  0.00\n",
       "year_built            0.00\n",
       "days_on_mls          36.75\n",
       "list_price            0.00\n",
       "list_date             0.00\n",
       "sold_price          100.00\n",
       "last_sold_date        0.00\n",
       "assessed_value        1.46\n",
       "estimated_value       1.90\n",
       "lot_sqft              0.00\n",
       "price_per_sqft      100.00\n",
       "latitude              0.00\n",
       "longitude             0.00\n",
       "neighborhoods        11.71\n",
       "county                0.00\n",
       "fips_code             0.00\n",
       "stories               0.44\n",
       "hoa_fee              10.54\n",
       "parking_garage       16.40\n",
       "agent                15.67\n",
       "agent_email          21.67\n",
       "agent_phones         19.62\n",
       "broker              100.00\n",
       "broker_phone        100.00\n",
       "broker_website      100.00\n",
       "nearby_schools        0.00\n",
       "primary_photo         2.34\n",
       "alt_photos            2.34\n",
       "dtype: float64"
      ]
     },
     "execution_count": 11,
     "metadata": {},
     "output_type": "execute_result"
    }
   ],
   "source": [
    "round((df2.isnull().sum()/df2.shape[0])*100,2)"
   ]
  },
  {
   "cell_type": "markdown",
   "id": "703ab061",
   "metadata": {},
   "source": [
    "# CLEAN DATA: DROP COLUMNS WITH UNUSED DATA"
   ]
  },
  {
   "cell_type": "code",
   "execution_count": 12,
   "id": "1d884742",
   "metadata": {},
   "outputs": [],
   "source": [
    "df1 = df1.drop(columns=['broker_website','broker_phone','broker', 'agent_phones','agent_email','agent','county']) \n",
    "df2 = df2.drop(columns=['broker_website','broker_phone','broker', 'agent_phones','agent_email','agent','county','sold_price']) \n"
   ]
  },
  {
   "cell_type": "markdown",
   "id": "385d1af5",
   "metadata": {},
   "source": [
    "# CLEAN DATA: FILL 'NAN' VALUES"
   ]
  },
  {
   "cell_type": "markdown",
   "id": "b6703bf2",
   "metadata": {},
   "source": [
    "### assumed 'nan' values:\n",
    "    ### number of stories - 1\n",
    "    ### hoa fees - 0\n",
    "    ### number of parking garages - 0\n",
    "    ### number of half baths - 0"
   ]
  },
  {
   "cell_type": "code",
   "execution_count": 13,
   "id": "569ebb58",
   "metadata": {},
   "outputs": [],
   "source": [
    "df2['stories'] = df2['stories'].fillna(1)\n",
    "df2['hoa_fee'] = df2['hoa_fee'].fillna(0)\n",
    "df2['parking_garage'] = df2['parking_garage'].fillna(0)\n",
    "df2['half_baths'] = df2['half_baths'].fillna(0)\n"
   ]
  },
  {
   "cell_type": "markdown",
   "id": "74f93a07",
   "metadata": {},
   "source": [
    "# CLEAN DATA: ADD NEIGHBORHOOD/MUNICIPAL LOCATION DATA USING SPATIAL JOIN"
   ]
  },
  {
   "cell_type": "code",
   "execution_count": 14,
   "id": "76e46789",
   "metadata": {},
   "outputs": [],
   "source": [
    "df2 = gpd.GeoDataFrame(\n",
    "    geometry=gpd.points_from_xy(df2.longitude, df2.latitude, crs=\"EPSG:4326\"), data=df2\n",
    ")\n",
    "city_bounds = gpd.read_file('data/Austin_City_Boundaries')\n",
    "neighborhoods = gpd.read_file('data/Neighborhoods_20240712')\n"
   ]
  },
  {
   "cell_type": "code",
   "execution_count": 15,
   "id": "1bb7f328",
   "metadata": {},
   "outputs": [],
   "source": [
    "city_bounds = city_bounds[city_bounds.CITY_NM!='Austin']"
   ]
  },
  {
   "cell_type": "code",
   "execution_count": 16,
   "id": "0fccb9c7",
   "metadata": {},
   "outputs": [],
   "source": [
    "df2 = df2.to_crs(neighborhoods.crs)\n",
    "city_bounds = city_bounds.to_crs(neighborhoods.crs)"
   ]
  },
  {
   "cell_type": "code",
   "execution_count": 17,
   "id": "a3573c35",
   "metadata": {},
   "outputs": [
    {
     "name": "stderr",
     "output_type": "stream",
     "text": [
      "/Users/nikkosiegfried/opt/anaconda3/lib/python3.9/site-packages/IPython/core/interactiveshell.py:3309: FutureWarning: The `op` parameter is deprecated and will be removed in a future release. Please use the `predicate` parameter instead.\n",
      "  if await self.run_code(code, result, async_=asy):\n"
     ]
    }
   ],
   "source": [
    "joined_gdf = gpd.sjoin(df2, neighborhoods, how='inner', op='within')\n"
   ]
  },
  {
   "cell_type": "code",
   "execution_count": 18,
   "id": "8b55a6f3",
   "metadata": {},
   "outputs": [],
   "source": [
    "non_intersecting_points = df2[~df2.index.isin(joined_gdf.index)]\n"
   ]
  },
  {
   "cell_type": "code",
   "execution_count": 19,
   "id": "a1b25951",
   "metadata": {},
   "outputs": [
    {
     "name": "stderr",
     "output_type": "stream",
     "text": [
      "/Users/nikkosiegfried/opt/anaconda3/lib/python3.9/site-packages/IPython/core/interactiveshell.py:3309: FutureWarning: The `op` parameter is deprecated and will be removed in a future release. Please use the `predicate` parameter instead.\n",
      "  if await self.run_code(code, result, async_=asy):\n"
     ]
    }
   ],
   "source": [
    "joined_gdf2 = gpd.sjoin(non_intersecting_points, city_bounds, how='left', op='within')\n"
   ]
  },
  {
   "cell_type": "code",
   "execution_count": 20,
   "id": "1358cae9",
   "metadata": {},
   "outputs": [],
   "source": [
    "joined_gdf2['CITY_NM'] = joined_gdf2['CITY_NM'].replace(np.nan, 'Rural')\n"
   ]
  },
  {
   "cell_type": "code",
   "execution_count": 21,
   "id": "cfbe43b3",
   "metadata": {},
   "outputs": [],
   "source": [
    "joined_gdf2 = joined_gdf2.drop(columns=['TXDOT_CITY', 'CITY_FIPS', 'CNTY_SEAT_', 'COLOR_CD', 'POP1990',\n",
    "       'POP2000', 'POP2010', 'POP2020', 'POP_CD', 'GID', 'SHAPE_Leng',\n",
    "       'FID_AllCou', 'CMPTRL_CNT', 'DPS_CNTY_N', 'FIPS_ST_CN', 'TXDOT_CNTY',\n",
    "       'TXDOT_DIST', 'CNTY_NM', 'GID_1', 'GlobalID', 'CreationDa', 'Creator',\n",
    "       'EditDate', 'Editor','index_right', 'FID_Cities', 'OBJECTID_1']) \n"
   ]
  },
  {
   "cell_type": "code",
   "execution_count": 22,
   "id": "0e3c2b3c",
   "metadata": {},
   "outputs": [],
   "source": [
    "joined_gdf = joined_gdf.rename(columns={\"neighname\": \"Location\"})"
   ]
  },
  {
   "cell_type": "code",
   "execution_count": 23,
   "id": "bcc1c44e",
   "metadata": {},
   "outputs": [],
   "source": [
    "joined_gdf2 = joined_gdf2.rename(columns={\"CITY_NM\": \"Location\"})"
   ]
  },
  {
   "cell_type": "code",
   "execution_count": 24,
   "id": "9c62d16d",
   "metadata": {},
   "outputs": [],
   "source": [
    "df2 = gpd.GeoDataFrame(pd.concat([joined_gdf, joined_gdf2], ignore_index=True))\n"
   ]
  },
  {
   "cell_type": "code",
   "execution_count": 25,
   "id": "253a062f",
   "metadata": {},
   "outputs": [],
   "source": [
    "df2 = df2.drop(columns=['mls','mls_id','fips_code','index_right','fid','target_fid','sqmiles','shape_leng','shape_area','shape_le_2','price_per_sqft','unit'])\n"
   ]
  },
  {
   "cell_type": "markdown",
   "id": "ff8a718b",
   "metadata": {},
   "source": [
    "# CALCULATE DAYS ON MARKET"
   ]
  },
  {
   "cell_type": "code",
   "execution_count": 26,
   "id": "ea9e921c",
   "metadata": {},
   "outputs": [],
   "source": [
    "def days_between_dates(date1, date2):\n",
    "    date_format = \"%Y-%m-%d\"\n",
    "    d1 = datetime.strptime(date1, date_format)\n",
    "    d2 = datetime.strptime(date2, date_format)\n",
    "    delta = d2 - d1\n",
    "    return abs(delta.days)"
   ]
  },
  {
   "cell_type": "code",
   "execution_count": 27,
   "id": "b0398f31",
   "metadata": {},
   "outputs": [],
   "source": [
    "df2['days_on_market'] = df2.apply(lambda row: days_between_dates(row['list_date'], row['last_sold_date']), axis=1)"
   ]
  },
  {
   "cell_type": "markdown",
   "id": "85ff1cf8",
   "metadata": {},
   "source": [
    "# CALCULATE AMENITIES TO PRICE RATIO (INSTEAD OF PRICE TO AMENITIES TO AVOID /0)"
   ]
  },
  {
   "cell_type": "code",
   "execution_count": 28,
   "id": "bb19ea00",
   "metadata": {},
   "outputs": [],
   "source": [
    "df2[\"bedcostratio\"] = df2.beds/df2.list_price"
   ]
  },
  {
   "cell_type": "code",
   "execution_count": 29,
   "id": "caca6db3",
   "metadata": {},
   "outputs": [],
   "source": [
    "df2[\"bathcostratio\"] = (df2.full_baths+df2.half_baths)/df2.list_price"
   ]
  },
  {
   "cell_type": "code",
   "execution_count": 30,
   "id": "eb080504",
   "metadata": {},
   "outputs": [],
   "source": [
    "df2[\"bathbedcastratio\"] = (df2.full_baths+df2.half_baths+df2.beds)/df2.list_price"
   ]
  },
  {
   "cell_type": "code",
   "execution_count": 31,
   "id": "01ad8c4c",
   "metadata": {},
   "outputs": [],
   "source": [
    "df2[\"amenitiescastratio\"] = (df2.full_baths+df2.half_baths+df2.beds+df2.parking_garage)/df2.list_price"
   ]
  },
  {
   "cell_type": "markdown",
   "id": "b6359753",
   "metadata": {},
   "source": [
    "# CLASSIFY YES/NO HOA FEE"
   ]
  },
  {
   "cell_type": "code",
   "execution_count": 32,
   "id": "e29753c7",
   "metadata": {},
   "outputs": [],
   "source": [
    "df2[\"hashoa\"] = df2[\"hoa_fee\"].apply(lambda x: 1 if x > 0 else x)\n"
   ]
  },
  {
   "cell_type": "markdown",
   "id": "d36ecf89",
   "metadata": {},
   "source": [
    "# CLASSIFY DAYS ON THE MARKET AS QUARTILES"
   ]
  },
  {
   "cell_type": "code",
   "execution_count": 33,
   "id": "35bc7c38",
   "metadata": {},
   "outputs": [
    {
     "name": "stdout",
     "output_type": "stream",
     "text": [
      "Q1: 45.0\n",
      "Q2: 77.0\n",
      "Q3: 131.0\n"
     ]
    }
   ],
   "source": [
    "# Calculate quartiles\n",
    "Q1 = df2['days_on_market'].quantile(0.25)\n",
    "Q2 = df2['days_on_market'].quantile(0.50)  # This is the median\n",
    "Q3 = df2['days_on_market'].quantile(0.75)\n",
    "\n",
    "print(f\"Q1: {Q1}\")\n",
    "print(f\"Q2: {Q2}\")\n",
    "print(f\"Q3: {Q3}\")"
   ]
  },
  {
   "cell_type": "code",
   "execution_count": 34,
   "id": "164cffaf",
   "metadata": {},
   "outputs": [],
   "source": [
    "# Define function to classify quartiles\n",
    "def classify_quartile(value):\n",
    "    if value <= Q1:\n",
    "        return 'Q1'\n",
    "    elif value <= Q2:\n",
    "        return 'Q2'\n",
    "    elif value <= Q3:\n",
    "        return 'Q3'\n",
    "    else:\n",
    "        return 'Q4'\n",
    "\n",
    "# Apply the function to classify quartiles\n",
    "df2['days_on_market_quartile'] = df2['days_on_market'].apply(classify_quartile)\n",
    "\n"
   ]
  },
  {
   "cell_type": "markdown",
   "id": "5b0357bb",
   "metadata": {},
   "source": [
    "# CLASSIFY LIST PRICE AS QUARTILES"
   ]
  },
  {
   "cell_type": "code",
   "execution_count": 35,
   "id": "cbe94971",
   "metadata": {},
   "outputs": [
    {
     "name": "stdout",
     "output_type": "stream",
     "text": [
      "Q1: 400000.0\n",
      "Q2: 504990.0\n",
      "Q3: 749000.0\n"
     ]
    }
   ],
   "source": [
    "Q1 = df2['list_price'].quantile(0.25)\n",
    "Q2 = df2['list_price'].quantile(0.50)  # This is the median\n",
    "Q3 = df2['list_price'].quantile(0.75)\n",
    "\n",
    "print(f\"Q1: {Q1}\")\n",
    "print(f\"Q2: {Q2}\")\n",
    "print(f\"Q3: {Q3}\")"
   ]
  },
  {
   "cell_type": "code",
   "execution_count": 36,
   "id": "17b5fd7a",
   "metadata": {},
   "outputs": [],
   "source": [
    "df2['list_price_quartile'] = df2['list_price'].apply(classify_quartile)\n"
   ]
  },
  {
   "cell_type": "markdown",
   "id": "0fe5aea3",
   "metadata": {},
   "source": [
    "# CALCULATE PRICE PER SQFT"
   ]
  },
  {
   "cell_type": "code",
   "execution_count": 37,
   "id": "cb903472",
   "metadata": {},
   "outputs": [],
   "source": [
    "df2[\"pricepersqft\"] = df2.list_price/df2.sqft"
   ]
  },
  {
   "cell_type": "markdown",
   "id": "b6c38428",
   "metadata": {},
   "source": [
    "# CLASSIFY SEASON LISTING WAS POSTED "
   ]
  },
  {
   "cell_type": "code",
   "execution_count": 38,
   "id": "fa45ebc8",
   "metadata": {},
   "outputs": [],
   "source": [
    "df2['datetime'] = pd.to_datetime(df2['list_date'])\n",
    "# Define the function to classify seasons\n",
    "def get_season(date):\n",
    "    year = date.year\n",
    "    seasons = {'Winter': ((pd.Timestamp(f'{year}-12-21'), pd.Timestamp(f'{year+1}-03-19'))),\n",
    "               'Spring': ((pd.Timestamp(f'{year}-03-20'), pd.Timestamp(f'{year}-06-20'))),\n",
    "               'Summer': ((pd.Timestamp(f'{year}-06-21'), pd.Timestamp(f'{year}-09-21'))),\n",
    "               'Fall': ((pd.Timestamp(f'{year}-09-22'), pd.Timestamp(f'{year}-12-20')))}\n",
    "    \n",
    "    for season, (start, end) in seasons.items():\n",
    "        if start <= date <= end:\n",
    "            return season\n",
    "    return 'Winter'  # For dates between Dec 21 and Dec 31\n"
   ]
  },
  {
   "cell_type": "code",
   "execution_count": 39,
   "id": "5cfd54df",
   "metadata": {},
   "outputs": [],
   "source": [
    "# Apply the function to classify seasons\n",
    "df2['season_listed'] = df2['datetime'].apply(get_season)\n"
   ]
  },
  {
   "cell_type": "markdown",
   "id": "04a1b2e6",
   "metadata": {},
   "source": [
    "# ENCODE CATEGORICAL VARIABLES: LOCATION, SEASON LISTED"
   ]
  },
  {
   "cell_type": "code",
   "execution_count": 40,
   "id": "a2263d0b",
   "metadata": {},
   "outputs": [],
   "source": [
    "encoder = OneHotEncoder(sparse=False)\n",
    "encoded_cat = encoder.fit_transform(df2[['Location','season_listed']])\n",
    "encoded_cat_df = pd.DataFrame(encoded_cat, columns=encoder.get_feature_names_out(['Location','season_listed']))"
   ]
  },
  {
   "cell_type": "code",
   "execution_count": 41,
   "id": "cae485cc",
   "metadata": {},
   "outputs": [],
   "source": [
    "df2 = pd.concat([df2, encoded_cat_df], axis=1)\n"
   ]
  },
  {
   "cell_type": "markdown",
   "id": "490ac665",
   "metadata": {},
   "source": [
    "# EXPORT TO CSV"
   ]
  },
  {
   "cell_type": "code",
   "execution_count": 42,
   "id": "92e37b25",
   "metadata": {},
   "outputs": [],
   "source": [
    "df1.to_csv('data/Austin_For_Sale_CLEANED.csv', index=False)\n",
    "df2.to_csv('data/Austin_Sold_CLEANED.csv', index=False)\n"
   ]
  }
 ],
 "metadata": {
  "kernelspec": {
   "display_name": "Python 3 (ipykernel)",
   "language": "python",
   "name": "python3"
  },
  "language_info": {
   "codemirror_mode": {
    "name": "ipython",
    "version": 3
   },
   "file_extension": ".py",
   "mimetype": "text/x-python",
   "name": "python",
   "nbconvert_exporter": "python",
   "pygments_lexer": "ipython3",
   "version": "3.9.12"
  }
 },
 "nbformat": 4,
 "nbformat_minor": 5
}
