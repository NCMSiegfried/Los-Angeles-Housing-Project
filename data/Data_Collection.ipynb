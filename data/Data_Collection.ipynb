{
 "cells": [
  {
   "cell_type": "code",
   "execution_count": 2,
   "id": "2736bc20",
   "metadata": {},
   "outputs": [],
   "source": [
    "import pandas as pd\n",
    "from homeharvest import scrape_property\n",
    "from datetime import datetime\n",
    "import os"
   ]
  },
  {
   "cell_type": "code",
   "execution_count": 6,
   "id": "a58428eb",
   "metadata": {},
   "outputs": [
    {
     "name": "stdout",
     "output_type": "stream",
     "text": [
      "Number of properties: 9958\n"
     ]
    }
   ],
   "source": [
    "\n",
    "# Generate filename based on current timestamp\n",
    "filename = f\"Los_Angeles_Sold_20240829.csv\"\n",
    "\n",
    "properties = scrape_property(\n",
    "  location=\"Los Angeles, CA\",\n",
    "  listing_type=\"sold\",  # or (for_sale, for_rent, pending)\n",
    "  #past_days=30,  # sold in last 30 days - listed in last 30 days if (for_sale, for_rent)\n",
    "\n",
    "  #date_from=\"2024-01-01\", # alternative to past_days\n",
    "  #date_to=\"2024-07-10\",\n",
    "  # foreclosure=True\n",
    "  mls_only=True,# only fetch MLS listings\n",
    "  extra_property_data = True\n",
    ")\n",
    "print(f\"Number of properties: {len(properties)}\")\n",
    "\n"
   ]
  },
  {
   "cell_type": "code",
   "execution_count": 7,
   "id": "2b4b21c8",
   "metadata": {},
   "outputs": [
    {
     "name": "stdout",
     "output_type": "stream",
     "text": [
      "                                        property_url   mls      mls_id status  \\\n",
      "0  https://www.realtor.com/realestateandhomes-det...  MRCA  SB24123058   SOLD   \n",
      "1  https://www.realtor.com/realestateandhomes-det...  WECA   24-396131   SOLD   \n",
      "2  https://www.realtor.com/realestateandhomes-det...  MRCA  BB24116300   SOLD   \n",
      "3  https://www.realtor.com/realestateandhomes-det...  MRCA  SR24103064   SOLD   \n",
      "4  https://www.realtor.com/realestateandhomes-det...  WECA   24-409675   SOLD   \n",
      "\n",
      "                                                text          style  \\\n",
      "0  Lovely 4plex, all 2 bedrooms each. Great upsid...   MULTI_FAMILY   \n",
      "1  Welcome to 2445 Nalin Drive, a serene retreat ...  SINGLE_FAMILY   \n",
      "2  Your new home is here! This fully renovated Me...  SINGLE_FAMILY   \n",
      "3  Accepting Back Up offers- Charming Del Rey 2 b...  SINGLE_FAMILY   \n",
      "4  Welcome to this charming 4-plex property, a ra...   MULTI_FAMILY   \n",
      "\n",
      "           full_street_line                    street  unit          city  \\\n",
      "0         457 W W Oliver St         457 W W Oliver St  <NA>     San Pedro   \n",
      "1             2445 Nalin Dr             2445 Nalin Dr  <NA>   Los Angeles   \n",
      "2          20368 Via Medici          20368 Via Medici  <NA>  Porter Ranch   \n",
      "3           4320 Kenyon Ave           4320 Kenyon Ave  <NA>   Los Angeles   \n",
      "4  337 /339 N Spaulding Ave  337 /339 N Spaulding Ave  <NA>   Los Angeles   \n",
      "\n",
      "   ... parking_garage                                              agent  \\\n",
      "0  ...           <NA>                               FRANCESCO FUNICIELLO   \n",
      "1  ...              2  Nancy Sanborn - Berkshire Hathaway HomeService...   \n",
      "2  ...              3                                        Steven Hill   \n",
      "3  ...              2                               Laura Piller Plourde   \n",
      "4  ...              4                                      Nima Rasakhoo   \n",
      "\n",
      "               agent_email                                       agent_phones  \\\n",
      "0       Francesco1@cox.net  [{'number': '3107072143', 'type': 'Office', 'e...   \n",
      "1     info@sanbornteam.com  [{'number': '3107772858', 'type': 'Office', 'e...   \n",
      "2   steven.hill@redfin.com  [{'number': '3109993449', 'type': 'BUSINESS_MO...   \n",
      "3       ldpiller@gmail.com  [{'number': '8182923383', 'type': 'Mobile', 'e...   \n",
      "4  nima.rasakhoo@gmail.com  [{'number': '3108206651', 'type': 'Office', 'e...   \n",
      "\n",
      "  broker broker_phone broker_website                       nearby_schools  \\\n",
      "0   <NA>         <NA>           <NA>  Los Angeles Unified School District   \n",
      "1   <NA>         <NA>           <NA>  Los Angeles Unified School District   \n",
      "2   <NA>         <NA>           <NA>  Los Angeles Unified School District   \n",
      "3   <NA>         <NA>           <NA>  Los Angeles Unified School District   \n",
      "4   <NA>         <NA>           <NA>  Los Angeles Unified School District   \n",
      "\n",
      "                                       primary_photo  \\\n",
      "0  http://ap.rdcpix.com/419a0681d33fa2e4a3f2ae548...   \n",
      "1  http://ap.rdcpix.com/fc5c6498fbb46988960bc4e5f...   \n",
      "2                                               <NA>   \n",
      "3  http://ap.rdcpix.com/ca2b87ead2758f0c0114db943...   \n",
      "4  http://ap.rdcpix.com/469d8d201f9d600b0a2f043af...   \n",
      "\n",
      "                                          alt_photos  \n",
      "0  http://ap.rdcpix.com/419a0681d33fa2e4a3f2ae548...  \n",
      "1  http://ap.rdcpix.com/fc5c6498fbb46988960bc4e5f...  \n",
      "2                                               <NA>  \n",
      "3  http://ap.rdcpix.com/ca2b87ead2758f0c0114db943...  \n",
      "4  http://ap.rdcpix.com/469d8d201f9d600b0a2f043af...  \n",
      "\n",
      "[5 rows x 43 columns]\n"
     ]
    }
   ],
   "source": [
    "# Export to csv\n",
    "properties.to_csv(filename, index=False)\n",
    "print(properties.head())"
   ]
  }
 ],
 "metadata": {
  "kernelspec": {
   "display_name": "Python 3 (ipykernel)",
   "language": "python",
   "name": "python3"
  },
  "language_info": {
   "codemirror_mode": {
    "name": "ipython",
    "version": 3
   },
   "file_extension": ".py",
   "mimetype": "text/x-python",
   "name": "python",
   "nbconvert_exporter": "python",
   "pygments_lexer": "ipython3",
   "version": "3.9.12"
  }
 },
 "nbformat": 4,
 "nbformat_minor": 5
}
