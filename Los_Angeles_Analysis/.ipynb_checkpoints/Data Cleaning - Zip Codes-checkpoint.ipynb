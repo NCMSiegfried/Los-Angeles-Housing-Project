{
 "cells": [
  {
   "cell_type": "code",
   "execution_count": 1,
   "id": "e93902e8",
   "metadata": {},
   "outputs": [
    {
     "name": "stderr",
     "output_type": "stream",
     "text": [
      "/Users/nikkosiegfried/opt/anaconda3/lib/python3.9/site-packages/pandas/core/computation/expressions.py:21: UserWarning: Pandas requires version '2.8.4' or newer of 'numexpr' (version '2.8.1' currently installed).\n",
      "  from pandas.core.computation.check import NUMEXPR_INSTALLED\n",
      "/Users/nikkosiegfried/opt/anaconda3/lib/python3.9/site-packages/pandas/core/arrays/masked.py:60: UserWarning: Pandas requires version '1.3.6' or newer of 'bottleneck' (version '1.3.4' currently installed).\n",
      "  from pandas.core import (\n"
     ]
    }
   ],
   "source": [
    "import pandas as pd\n",
    "import zipfile\n",
    "import io, os"
   ]
  },
  {
   "cell_type": "code",
   "execution_count": 2,
   "id": "39c9d597",
   "metadata": {},
   "outputs": [],
   "source": [
    "notebook_dir = os.getcwd()\n"
   ]
  },
  {
   "cell_type": "code",
   "execution_count": 3,
   "id": "1c8f31ab",
   "metadata": {},
   "outputs": [],
   "source": [
    "os.chdir(notebook_dir)\n",
    "os.chdir('..')"
   ]
  },
  {
   "cell_type": "code",
   "execution_count": 4,
   "id": "9fbc59cb",
   "metadata": {},
   "outputs": [],
   "source": [
    "#IMPORT DATA INTO DATAFRAMES\n",
    "df = pd.read_csv(\"data/Los_Angeles_Sold_CLEANED.csv\")\n",
    "\n",
    "zip_file_path = 'data/ACSDT5Y2022.B25077_2024-08-30T020148.zip'\n",
    "\n",
    "# Open the zip file\n",
    "with zipfile.ZipFile(zip_file_path, 'r') as z:\n",
    "    # List all the contents in the zip file\n",
    "    #print(z.namelist())\n",
    "    \n",
    "    # Assuming there's only one CSV file in the ZIP, extract its name\n",
    "    #csv_filename = z.namelist()[0]\n",
    "    \n",
    "    # Extract and read the CSV file into a DataFrame\n",
    "    with z.open('ACSDT5Y2022.B25077-Data.csv') as f:\n",
    "        housing_df = pd.read_csv(f)\n",
    "\n",
    "# Display the DataFrame\n",
    "#print(df)"
   ]
  },
  {
   "cell_type": "code",
   "execution_count": 5,
   "id": "1971c2e3",
   "metadata": {},
   "outputs": [
    {
     "data": {
      "text/html": [
       "<div>\n",
       "<style scoped>\n",
       "    .dataframe tbody tr th:only-of-type {\n",
       "        vertical-align: middle;\n",
       "    }\n",
       "\n",
       "    .dataframe tbody tr th {\n",
       "        vertical-align: top;\n",
       "    }\n",
       "\n",
       "    .dataframe thead th {\n",
       "        text-align: right;\n",
       "    }\n",
       "</style>\n",
       "<table border=\"1\" class=\"dataframe\">\n",
       "  <thead>\n",
       "    <tr style=\"text-align: right;\">\n",
       "      <th></th>\n",
       "      <th>GEO_ID</th>\n",
       "      <th>NAME</th>\n",
       "      <th>B25077_001E</th>\n",
       "      <th>B25077_001M</th>\n",
       "      <th>Unnamed: 4</th>\n",
       "    </tr>\n",
       "  </thead>\n",
       "  <tbody>\n",
       "    <tr>\n",
       "      <th>0</th>\n",
       "      <td>Geography</td>\n",
       "      <td>Geographic Area Name</td>\n",
       "      <td>Estimate!!Median value (dollars)</td>\n",
       "      <td>Margin of Error!!Median value (dollars)</td>\n",
       "      <td>NaN</td>\n",
       "    </tr>\n",
       "    <tr>\n",
       "      <th>1</th>\n",
       "      <td>0100000US</td>\n",
       "      <td>United States</td>\n",
       "      <td>281900</td>\n",
       "      <td>221</td>\n",
       "      <td>NaN</td>\n",
       "    </tr>\n",
       "    <tr>\n",
       "      <th>2</th>\n",
       "      <td>860Z200US89010</td>\n",
       "      <td>ZCTA5 89010</td>\n",
       "      <td>113800</td>\n",
       "      <td>17741</td>\n",
       "      <td>NaN</td>\n",
       "    </tr>\n",
       "    <tr>\n",
       "      <th>3</th>\n",
       "      <td>860Z200US89019</td>\n",
       "      <td>ZCTA5 89019</td>\n",
       "      <td>249400</td>\n",
       "      <td>54781</td>\n",
       "      <td>NaN</td>\n",
       "    </tr>\n",
       "    <tr>\n",
       "      <th>4</th>\n",
       "      <td>860Z200US89060</td>\n",
       "      <td>ZCTA5 89060</td>\n",
       "      <td>208800</td>\n",
       "      <td>19486</td>\n",
       "      <td>NaN</td>\n",
       "    </tr>\n",
       "  </tbody>\n",
       "</table>\n",
       "</div>"
      ],
      "text/plain": [
       "           GEO_ID                  NAME                       B25077_001E  \\\n",
       "0       Geography  Geographic Area Name  Estimate!!Median value (dollars)   \n",
       "1       0100000US         United States                            281900   \n",
       "2  860Z200US89010           ZCTA5 89010                            113800   \n",
       "3  860Z200US89019           ZCTA5 89019                            249400   \n",
       "4  860Z200US89060           ZCTA5 89060                            208800   \n",
       "\n",
       "                               B25077_001M  Unnamed: 4  \n",
       "0  Margin of Error!!Median value (dollars)         NaN  \n",
       "1                                      221         NaN  \n",
       "2                                    17741         NaN  \n",
       "3                                    54781         NaN  \n",
       "4                                    19486         NaN  "
      ]
     },
     "execution_count": 5,
     "metadata": {},
     "output_type": "execute_result"
    }
   ],
   "source": [
    "housing_df.head()"
   ]
  },
  {
   "cell_type": "code",
   "execution_count": 6,
   "id": "70a6ca78",
   "metadata": {},
   "outputs": [],
   "source": [
    "#RENAME COLUMNS\n",
    "housing_df.rename(columns={'NAME': 'zip'}, inplace=True)\n",
    "housing_df.rename(columns={'B25077_001E': 'med_val_est_2022'}, inplace=True)\n"
   ]
  },
  {
   "cell_type": "code",
   "execution_count": 7,
   "id": "db7bedc9",
   "metadata": {},
   "outputs": [],
   "source": [
    "#DROP UNUSED COLUMNS AND FIRST TWO ROWS\n",
    "housing_df = housing_df.iloc[2:]\n",
    "housing_df = housing_df.drop(columns=housing_df.columns[-2:])\n",
    "housing_df = housing_df.drop(columns=housing_df.columns[0])\n"
   ]
  },
  {
   "cell_type": "code",
   "execution_count": 8,
   "id": "53684822",
   "metadata": {},
   "outputs": [],
   "source": [
    "#EXTRACT ZIP CODES\n",
    "def zip_extraction(x):\n",
    "    return x.split(' ')[1]\n",
    "\n",
    "\n",
    "housing_df['zip'] = housing_df['zip'].apply(zip_extraction)"
   ]
  },
  {
   "cell_type": "code",
   "execution_count": 9,
   "id": "6a289284",
   "metadata": {},
   "outputs": [],
   "source": [
    "#CALCULATE MED HOME PRICE INFLATION\n",
    "#2023 increase:7.5%,2024 increase:1%, source: https://www.redfin.com/county/321/CA/Los-Angeles-County/housing-market\n",
    "\n",
    "housing_df['med_val_est_2022'] = pd.to_numeric(housing_df['med_val_est_2022'], errors='coerce').fillna(0).astype(int)\n",
    "housing_df = housing_df.dropna(subset=['med_val_est_2022'])\n",
    "housing_df = housing_df[housing_df['med_val_est_2022'] != 0]\n",
    "\n",
    "\n",
    "housing_df['med_val_est_2024'] = (housing_df['med_val_est_2022']*(1.075*1.01)).round(0)"
   ]
  },
  {
   "cell_type": "code",
   "execution_count": 10,
   "id": "08291d7d",
   "metadata": {},
   "outputs": [
    {
     "data": {
      "text/html": [
       "<div>\n",
       "<style scoped>\n",
       "    .dataframe tbody tr th:only-of-type {\n",
       "        vertical-align: middle;\n",
       "    }\n",
       "\n",
       "    .dataframe tbody tr th {\n",
       "        vertical-align: top;\n",
       "    }\n",
       "\n",
       "    .dataframe thead th {\n",
       "        text-align: right;\n",
       "    }\n",
       "</style>\n",
       "<table border=\"1\" class=\"dataframe\">\n",
       "  <thead>\n",
       "    <tr style=\"text-align: right;\">\n",
       "      <th></th>\n",
       "      <th>zip</th>\n",
       "      <th>med_val_est_2022</th>\n",
       "      <th>med_val_est_2024</th>\n",
       "    </tr>\n",
       "  </thead>\n",
       "  <tbody>\n",
       "    <tr>\n",
       "      <th>2</th>\n",
       "      <td>89010</td>\n",
       "      <td>113800</td>\n",
       "      <td>123558.0</td>\n",
       "    </tr>\n",
       "    <tr>\n",
       "      <th>3</th>\n",
       "      <td>89019</td>\n",
       "      <td>249400</td>\n",
       "      <td>270786.0</td>\n",
       "    </tr>\n",
       "    <tr>\n",
       "      <th>4</th>\n",
       "      <td>89060</td>\n",
       "      <td>208800</td>\n",
       "      <td>226705.0</td>\n",
       "    </tr>\n",
       "    <tr>\n",
       "      <th>5</th>\n",
       "      <td>89061</td>\n",
       "      <td>286400</td>\n",
       "      <td>310959.0</td>\n",
       "    </tr>\n",
       "    <tr>\n",
       "      <th>6</th>\n",
       "      <td>89439</td>\n",
       "      <td>681300</td>\n",
       "      <td>739721.0</td>\n",
       "    </tr>\n",
       "    <tr>\n",
       "      <th>...</th>\n",
       "      <td>...</td>\n",
       "      <td>...</td>\n",
       "      <td>...</td>\n",
       "    </tr>\n",
       "    <tr>\n",
       "      <th>1804</th>\n",
       "      <td>96146</td>\n",
       "      <td>1559700</td>\n",
       "      <td>1693444.0</td>\n",
       "    </tr>\n",
       "    <tr>\n",
       "      <th>1805</th>\n",
       "      <td>96148</td>\n",
       "      <td>661500</td>\n",
       "      <td>718224.0</td>\n",
       "    </tr>\n",
       "    <tr>\n",
       "      <th>1806</th>\n",
       "      <td>96150</td>\n",
       "      <td>595300</td>\n",
       "      <td>646347.0</td>\n",
       "    </tr>\n",
       "    <tr>\n",
       "      <th>1808</th>\n",
       "      <td>96161</td>\n",
       "      <td>822800</td>\n",
       "      <td>893355.0</td>\n",
       "    </tr>\n",
       "    <tr>\n",
       "      <th>1809</th>\n",
       "      <td>97635</td>\n",
       "      <td>147800</td>\n",
       "      <td>160474.0</td>\n",
       "    </tr>\n",
       "  </tbody>\n",
       "</table>\n",
       "<p>1557 rows × 3 columns</p>\n",
       "</div>"
      ],
      "text/plain": [
       "        zip  med_val_est_2022  med_val_est_2024\n",
       "2     89010            113800          123558.0\n",
       "3     89019            249400          270786.0\n",
       "4     89060            208800          226705.0\n",
       "5     89061            286400          310959.0\n",
       "6     89439            681300          739721.0\n",
       "...     ...               ...               ...\n",
       "1804  96146           1559700         1693444.0\n",
       "1805  96148            661500          718224.0\n",
       "1806  96150            595300          646347.0\n",
       "1808  96161            822800          893355.0\n",
       "1809  97635            147800          160474.0\n",
       "\n",
       "[1557 rows x 3 columns]"
      ]
     },
     "execution_count": 10,
     "metadata": {},
     "output_type": "execute_result"
    }
   ],
   "source": [
    "housing_df"
   ]
  },
  {
   "cell_type": "code",
   "execution_count": null,
   "id": "e4d7977c",
   "metadata": {},
   "outputs": [],
   "source": []
  }
 ],
 "metadata": {
  "kernelspec": {
   "display_name": "Python 3 (ipykernel)",
   "language": "python",
   "name": "python3"
  },
  "language_info": {
   "codemirror_mode": {
    "name": "ipython",
    "version": 3
   },
   "file_extension": ".py",
   "mimetype": "text/x-python",
   "name": "python",
   "nbconvert_exporter": "python",
   "pygments_lexer": "ipython3",
   "version": "3.9.12"
  }
 },
 "nbformat": 4,
 "nbformat_minor": 5
}
