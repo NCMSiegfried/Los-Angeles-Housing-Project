{
 "cells": [
  {
   "cell_type": "code",
   "execution_count": 1,
   "id": "ca7a4d20",
   "metadata": {},
   "outputs": [
    {
     "name": "stderr",
     "output_type": "stream",
     "text": [
      "/Users/nikkosiegfried/opt/anaconda3/lib/python3.9/site-packages/pandas/core/computation/expressions.py:21: UserWarning: Pandas requires version '2.8.4' or newer of 'numexpr' (version '2.8.1' currently installed).\n",
      "  from pandas.core.computation.check import NUMEXPR_INSTALLED\n",
      "/Users/nikkosiegfried/opt/anaconda3/lib/python3.9/site-packages/pandas/core/arrays/masked.py:60: UserWarning: Pandas requires version '1.3.6' or newer of 'bottleneck' (version '1.3.4' currently installed).\n",
      "  from pandas.core import (\n"
     ]
    }
   ],
   "source": [
    "from homeharvest import scrape_property\n",
    "import numpy as np\n",
    "from sklearn.datasets import make_regression\n",
    "from sklearn.model_selection import train_test_split, GridSearchCV\n",
    "from sklearn.preprocessing import StandardScaler,LabelEncoder\n",
    "from sklearn.pipeline import Pipeline\n",
    "from sklearn.neighbors import KNeighborsRegressor\n",
    "from sklearn.metrics import mean_squared_error\n",
    "import os\n",
    "import pandas as pd\n",
    "import matplotlib.pyplot as plt\n",
    "import seaborn as sns\n",
    "from sklearn.preprocessing import (\n",
    "    MaxAbsScaler,\n",
    "    MinMaxScaler,\n",
    "    Normalizer,\n",
    "    PowerTransformer,\n",
    "    QuantileTransformer,\n",
    "    RobustScaler,\n",
    "    StandardScaler,\n",
    "    minmax_scale,\n",
    ")\n",
    "from numpy import ravel\n",
    "import statsmodels.api as sm\n",
    "from sklearn.feature_selection import VarianceThreshold\n",
    "from sklearn.neighbors import KNeighborsClassifier "
   ]
  },
  {
   "cell_type": "code",
   "execution_count": 2,
   "id": "456044eb",
   "metadata": {},
   "outputs": [],
   "source": [
    "notebook_dir = os.getcwd()\n"
   ]
  },
  {
   "cell_type": "code",
   "execution_count": 5,
   "id": "eac5f02b",
   "metadata": {},
   "outputs": [],
   "source": [
    "os.chdir(notebook_dir)\n",
    "os.chdir('..')\n",
    "df = pd.read_csv(\"data/Los_Angeles_Sold_CLEANED.csv\")\n"
   ]
  },
  {
   "cell_type": "code",
   "execution_count": 6,
   "id": "5013769f",
   "metadata": {},
   "outputs": [
    {
     "data": {
      "text/plain": [
       "Index(['property_url', 'mls', 'mls_id', 'status', 'text', 'style',\n",
       "       'full_street_line', 'street', 'unit', 'city', 'state', 'zip_code',\n",
       "       'beds', 'full_baths', 'half_baths', 'sqft', 'year_built', 'days_on_mls',\n",
       "       'list_price', 'list_date', 'sold_price', 'last_sold_date',\n",
       "       'assessed_value', 'estimated_value', 'lot_sqft', 'price_per_sqft',\n",
       "       'latitude', 'longitude', 'neighborhoods', 'fips_code', 'stories',\n",
       "       'hoa_fee', 'parking_garage', 'nearby_schools', 'primary_photo',\n",
       "       'alt_photos', 'days_on_market', 'bedcostratio', 'bathcostratio',\n",
       "       'bathbedcostratio', 'amenitiescastratio', 'pricepersqft', 'total_baths',\n",
       "       'days_on_market_quartile', 'list_price_quartile', 'hashoa', 'datetime',\n",
       "       'season_listed', 'season_listed_encoded'],\n",
       "      dtype='object')"
      ]
     },
     "execution_count": 6,
     "metadata": {},
     "output_type": "execute_result"
    }
   ],
   "source": [
    "df.columns"
   ]
  },
  {
   "cell_type": "code",
   "execution_count": 8,
   "id": "0ef3f050",
   "metadata": {},
   "outputs": [],
   "source": [
    "X = df[['list_price','list_price_quartile','pricepersqft','beds','full_baths',\n",
    "         'half_baths','total_baths','bedcostratio', 'bathcostratio', 'bathbedcostratio',\n",
    "         'amenitiescastratio','hashoa',\"season_listed_encoded\",'days_on_market_quartile',\n",
    "         'zip_code'\n",
    "       ]]\n",
    "y = df['days_on_market_quartile']\n",
    "\n",
    "# Split the data into training and testing sets\n",
    "X_train, X_test, y_train, y_test = train_test_split(X, y)"
   ]
  },
  {
   "cell_type": "code",
   "execution_count": null,
   "id": "46b5d170",
   "metadata": {},
   "outputs": [],
   "source": []
  }
 ],
 "metadata": {
  "kernelspec": {
   "display_name": "Python 3 (ipykernel)",
   "language": "python",
   "name": "python3"
  },
  "language_info": {
   "codemirror_mode": {
    "name": "ipython",
    "version": 3
   },
   "file_extension": ".py",
   "mimetype": "text/x-python",
   "name": "python",
   "nbconvert_exporter": "python",
   "pygments_lexer": "ipython3",
   "version": "3.9.12"
  }
 },
 "nbformat": 4,
 "nbformat_minor": 5
}
